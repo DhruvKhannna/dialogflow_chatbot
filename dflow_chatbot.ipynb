{
 "cells": [
  {
   "cell_type": "code",
   "execution_count": 11,
   "metadata": {},
   "outputs": [],
   "source": [
    "from webexteamssdk import WebexTeamsAPI\n",
    "api = WebexTeamsAPI()"
   ]
  },
  {
   "cell_type": "code",
   "execution_count": 12,
   "metadata": {},
   "outputs": [
    {
     "ename": "ApiError",
     "evalue": "[401] Unauthorized - The request requires a valid access token set in the Authorization request header. [Tracking ID: ROUTER_625E53B6-3648-01BB-0257-0AFE4AB60257]",
     "output_type": "error",
     "traceback": [
      "\u001b[1;31m---------------------------------------------------------------------------\u001b[0m",
      "\u001b[1;31mApiError\u001b[0m                                  Traceback (most recent call last)",
      "\u001b[1;32m<ipython-input-12-6f911a4fce47>\u001b[0m in \u001b[0;36m<module>\u001b[1;34m\u001b[0m\n\u001b[0;32m      1\u001b[0m \u001b[0mall_rooms\u001b[0m \u001b[1;33m=\u001b[0m \u001b[0mapi\u001b[0m\u001b[1;33m.\u001b[0m\u001b[0mrooms\u001b[0m\u001b[1;33m.\u001b[0m\u001b[0mlist\u001b[0m\u001b[1;33m(\u001b[0m\u001b[1;33m)\u001b[0m\u001b[1;33m\u001b[0m\u001b[1;33m\u001b[0m\u001b[0m\n\u001b[1;32m----> 2\u001b[1;33m \u001b[0mlist\u001b[0m\u001b[1;33m(\u001b[0m\u001b[0mall_rooms\u001b[0m\u001b[1;33m)\u001b[0m\u001b[1;33m\u001b[0m\u001b[1;33m\u001b[0m\u001b[0m\n\u001b[0m",
      "\u001b[1;32m~\\Anaconda3\\lib\\site-packages\\webexteamssdk\\api\\rooms.py\u001b[0m in \u001b[0;36mlist\u001b[1;34m(self, teamId, type, sortBy, max, **request_parameters)\u001b[0m\n\u001b[0;32m    130\u001b[0m \u001b[1;33m\u001b[0m\u001b[0m\n\u001b[0;32m    131\u001b[0m         \u001b[1;31m# Yield room objects created from the returned items JSON objects\u001b[0m\u001b[1;33m\u001b[0m\u001b[1;33m\u001b[0m\u001b[1;33m\u001b[0m\u001b[0m\n\u001b[1;32m--> 132\u001b[1;33m         \u001b[1;32mfor\u001b[0m \u001b[0mitem\u001b[0m \u001b[1;32min\u001b[0m \u001b[0mitems\u001b[0m\u001b[1;33m:\u001b[0m\u001b[1;33m\u001b[0m\u001b[1;33m\u001b[0m\u001b[0m\n\u001b[0m\u001b[0;32m    133\u001b[0m             \u001b[1;32myield\u001b[0m \u001b[0mself\u001b[0m\u001b[1;33m.\u001b[0m\u001b[0m_object_factory\u001b[0m\u001b[1;33m(\u001b[0m\u001b[0mOBJECT_TYPE\u001b[0m\u001b[1;33m,\u001b[0m \u001b[0mitem\u001b[0m\u001b[1;33m)\u001b[0m\u001b[1;33m\u001b[0m\u001b[1;33m\u001b[0m\u001b[0m\n\u001b[0;32m    134\u001b[0m \u001b[1;33m\u001b[0m\u001b[0m\n",
      "\u001b[1;32m~\\Anaconda3\\lib\\site-packages\\webexteamssdk\\restsession.py\u001b[0m in \u001b[0;36mget_items\u001b[1;34m(self, url, params, **kwargs)\u001b[0m\n\u001b[0;32m    450\u001b[0m         \u001b[0mpages\u001b[0m \u001b[1;33m=\u001b[0m \u001b[0mself\u001b[0m\u001b[1;33m.\u001b[0m\u001b[0mget_pages\u001b[0m\u001b[1;33m(\u001b[0m\u001b[0murl\u001b[0m\u001b[1;33m,\u001b[0m \u001b[0mparams\u001b[0m\u001b[1;33m=\u001b[0m\u001b[0mparams\u001b[0m\u001b[1;33m,\u001b[0m \u001b[1;33m**\u001b[0m\u001b[0mkwargs\u001b[0m\u001b[1;33m)\u001b[0m\u001b[1;33m\u001b[0m\u001b[1;33m\u001b[0m\u001b[0m\n\u001b[0;32m    451\u001b[0m \u001b[1;33m\u001b[0m\u001b[0m\n\u001b[1;32m--> 452\u001b[1;33m         \u001b[1;32mfor\u001b[0m \u001b[0mjson_page\u001b[0m \u001b[1;32min\u001b[0m \u001b[0mpages\u001b[0m\u001b[1;33m:\u001b[0m\u001b[1;33m\u001b[0m\u001b[1;33m\u001b[0m\u001b[0m\n\u001b[0m\u001b[0;32m    453\u001b[0m             \u001b[1;32massert\u001b[0m \u001b[0misinstance\u001b[0m\u001b[1;33m(\u001b[0m\u001b[0mjson_page\u001b[0m\u001b[1;33m,\u001b[0m \u001b[0mdict\u001b[0m\u001b[1;33m)\u001b[0m\u001b[1;33m\u001b[0m\u001b[1;33m\u001b[0m\u001b[0m\n\u001b[0;32m    454\u001b[0m \u001b[1;33m\u001b[0m\u001b[0m\n",
      "\u001b[1;32m~\\Anaconda3\\lib\\site-packages\\webexteamssdk\\restsession.py\u001b[0m in \u001b[0;36mget_pages\u001b[1;34m(self, url, params, **kwargs)\u001b[0m\n\u001b[0;32m    405\u001b[0m \u001b[1;33m\u001b[0m\u001b[0m\n\u001b[0;32m    406\u001b[0m         \u001b[1;31m# First request\u001b[0m\u001b[1;33m\u001b[0m\u001b[1;33m\u001b[0m\u001b[1;33m\u001b[0m\u001b[0m\n\u001b[1;32m--> 407\u001b[1;33m         \u001b[0mresponse\u001b[0m \u001b[1;33m=\u001b[0m \u001b[0mself\u001b[0m\u001b[1;33m.\u001b[0m\u001b[0mrequest\u001b[0m\u001b[1;33m(\u001b[0m\u001b[1;34m\"GET\"\u001b[0m\u001b[1;33m,\u001b[0m \u001b[0murl\u001b[0m\u001b[1;33m,\u001b[0m \u001b[0merc\u001b[0m\u001b[1;33m,\u001b[0m \u001b[0mparams\u001b[0m\u001b[1;33m=\u001b[0m\u001b[0mparams\u001b[0m\u001b[1;33m,\u001b[0m \u001b[1;33m**\u001b[0m\u001b[0mkwargs\u001b[0m\u001b[1;33m)\u001b[0m\u001b[1;33m\u001b[0m\u001b[1;33m\u001b[0m\u001b[0m\n\u001b[0m\u001b[0;32m    408\u001b[0m \u001b[1;33m\u001b[0m\u001b[0m\n\u001b[0;32m    409\u001b[0m         \u001b[1;32mwhile\u001b[0m \u001b[1;32mTrue\u001b[0m\u001b[1;33m:\u001b[0m\u001b[1;33m\u001b[0m\u001b[1;33m\u001b[0m\u001b[0m\n",
      "\u001b[1;32m~\\Anaconda3\\lib\\site-packages\\webexteamssdk\\restsession.py\u001b[0m in \u001b[0;36mrequest\u001b[1;34m(self, method, url, erc, **kwargs)\u001b[0m\n\u001b[0;32m    343\u001b[0m             \u001b[1;32mtry\u001b[0m\u001b[1;33m:\u001b[0m\u001b[1;33m\u001b[0m\u001b[1;33m\u001b[0m\u001b[0m\n\u001b[0;32m    344\u001b[0m                 \u001b[1;31m# Check the response code for error conditions\u001b[0m\u001b[1;33m\u001b[0m\u001b[1;33m\u001b[0m\u001b[1;33m\u001b[0m\u001b[0m\n\u001b[1;32m--> 345\u001b[1;33m                 \u001b[0mcheck_response_code\u001b[0m\u001b[1;33m(\u001b[0m\u001b[0mresponse\u001b[0m\u001b[1;33m,\u001b[0m \u001b[0merc\u001b[0m\u001b[1;33m)\u001b[0m\u001b[1;33m\u001b[0m\u001b[1;33m\u001b[0m\u001b[0m\n\u001b[0m\u001b[0;32m    346\u001b[0m             \u001b[1;32mexcept\u001b[0m \u001b[0mRateLimitError\u001b[0m \u001b[1;32mas\u001b[0m \u001b[0me\u001b[0m\u001b[1;33m:\u001b[0m\u001b[1;33m\u001b[0m\u001b[1;33m\u001b[0m\u001b[0m\n\u001b[0;32m    347\u001b[0m                 \u001b[1;31m# Catch rate-limit errors\u001b[0m\u001b[1;33m\u001b[0m\u001b[1;33m\u001b[0m\u001b[1;33m\u001b[0m\u001b[0m\n",
      "\u001b[1;32m~\\Anaconda3\\lib\\site-packages\\webexteamssdk\\utils.py\u001b[0m in \u001b[0;36mcheck_response_code\u001b[1;34m(response, expected_response_code)\u001b[0m\n\u001b[0;32m    220\u001b[0m         \u001b[1;32mraise\u001b[0m \u001b[0mRateLimitError\u001b[0m\u001b[1;33m(\u001b[0m\u001b[0mresponse\u001b[0m\u001b[1;33m)\u001b[0m\u001b[1;33m\u001b[0m\u001b[1;33m\u001b[0m\u001b[0m\n\u001b[0;32m    221\u001b[0m     \u001b[1;32melse\u001b[0m\u001b[1;33m:\u001b[0m\u001b[1;33m\u001b[0m\u001b[1;33m\u001b[0m\u001b[0m\n\u001b[1;32m--> 222\u001b[1;33m         \u001b[1;32mraise\u001b[0m \u001b[0mApiError\u001b[0m\u001b[1;33m(\u001b[0m\u001b[0mresponse\u001b[0m\u001b[1;33m)\u001b[0m\u001b[1;33m\u001b[0m\u001b[1;33m\u001b[0m\u001b[0m\n\u001b[0m\u001b[0;32m    223\u001b[0m \u001b[1;33m\u001b[0m\u001b[0m\n\u001b[0;32m    224\u001b[0m \u001b[1;33m\u001b[0m\u001b[0m\n",
      "\u001b[1;31mApiError\u001b[0m: [401] Unauthorized - The request requires a valid access token set in the Authorization request header. [Tracking ID: ROUTER_625E53B6-3648-01BB-0257-0AFE4AB60257]"
     ]
    }
   ],
   "source": [
    "all_rooms = api.rooms.list()\n",
    "list(all_rooms)"
   ]
  },
  {
   "cell_type": "code",
   "execution_count": 14,
   "metadata": {},
   "outputs": [],
   "source": [
    "demo_room = api.rooms.create('webexteamssdk Demo')"
   ]
  },
  {
   "cell_type": "code",
   "execution_count": 16,
   "metadata": {},
   "outputs": [],
   "source": [
    "# Add people to the new demo room\n",
    "email_addresses = [\"dhruv6992.khanna@gmail.com\"]\n",
    "for email in email_addresses:\n",
    "    api.memberships.create(demo_room.id, personEmail=email)"
   ]
  },
  {
   "cell_type": "code",
   "execution_count": 20,
   "metadata": {},
   "outputs": [],
   "source": [
    "room_id=\"Y2lzY29zcGFyazovL3VybjpURUFNOnVzLXdlc3QtMl9yL1JPT00vODNhYzQ5ZTAtYmIxMC0xMWVjLTljMWQtNzUzMDI1MjAyMDg1\""
   ]
  },
  {
   "cell_type": "code",
   "execution_count": 9,
   "metadata": {},
   "outputs": [
    {
     "ename": "ApiError",
     "evalue": "[401] Unauthorized - The request requires a valid access token set in the Authorization request header. [Tracking ID: ROUTER_625E5343-743A-01BB-2F18-0AFE5B2D2F18]",
     "output_type": "error",
     "traceback": [
      "\u001b[1;31m---------------------------------------------------------------------------\u001b[0m",
      "\u001b[1;31mApiError\u001b[0m                                  Traceback (most recent call last)",
      "\u001b[1;32m<ipython-input-9-bee9eeb6d611>\u001b[0m in \u001b[0;36m<module>\u001b[1;34m\u001b[0m\n\u001b[0;32m      1\u001b[0m api.messages.create(room_id, text=\"by to the room!\",\n\u001b[1;32m----> 2\u001b[1;33m                     files=[\"https://www.webex.com/content/dam/wbx/us/images/dg-integ/teams_icon.png\"])\n\u001b[0m",
      "\u001b[1;32m~\\Anaconda3\\lib\\site-packages\\webexteamssdk\\api\\messages.py\u001b[0m in \u001b[0;36mcreate\u001b[1;34m(self, roomId, parentId, toPersonId, toPersonEmail, text, markdown, files, attachments, **request_parameters)\u001b[0m\n\u001b[0;32m    280\u001b[0m         \u001b[1;32mif\u001b[0m \u001b[1;32mnot\u001b[0m \u001b[0mfiles\u001b[0m \u001b[1;32mor\u001b[0m \u001b[0mis_web_url\u001b[0m\u001b[1;33m(\u001b[0m\u001b[0mfiles\u001b[0m\u001b[1;33m[\u001b[0m\u001b[1;36m0\u001b[0m\u001b[1;33m]\u001b[0m\u001b[1;33m)\u001b[0m\u001b[1;33m:\u001b[0m\u001b[1;33m\u001b[0m\u001b[1;33m\u001b[0m\u001b[0m\n\u001b[0;32m    281\u001b[0m             \u001b[1;31m# Standard JSON post\u001b[0m\u001b[1;33m\u001b[0m\u001b[1;33m\u001b[0m\u001b[1;33m\u001b[0m\u001b[0m\n\u001b[1;32m--> 282\u001b[1;33m             \u001b[0mjson_data\u001b[0m \u001b[1;33m=\u001b[0m \u001b[0mself\u001b[0m\u001b[1;33m.\u001b[0m\u001b[0m_session\u001b[0m\u001b[1;33m.\u001b[0m\u001b[0mpost\u001b[0m\u001b[1;33m(\u001b[0m\u001b[0mAPI_ENDPOINT\u001b[0m\u001b[1;33m,\u001b[0m \u001b[0mjson\u001b[0m\u001b[1;33m=\u001b[0m\u001b[0mpost_data\u001b[0m\u001b[1;33m)\u001b[0m\u001b[1;33m\u001b[0m\u001b[1;33m\u001b[0m\u001b[0m\n\u001b[0m\u001b[0;32m    283\u001b[0m \u001b[1;33m\u001b[0m\u001b[0m\n\u001b[0;32m    284\u001b[0m         \u001b[1;32melif\u001b[0m \u001b[0mis_local_file\u001b[0m\u001b[1;33m(\u001b[0m\u001b[0mfiles\u001b[0m\u001b[1;33m[\u001b[0m\u001b[1;36m0\u001b[0m\u001b[1;33m]\u001b[0m\u001b[1;33m)\u001b[0m\u001b[1;33m:\u001b[0m\u001b[1;33m\u001b[0m\u001b[1;33m\u001b[0m\u001b[0m\n",
      "\u001b[1;32m~\\Anaconda3\\lib\\site-packages\\webexteamssdk\\restsession.py\u001b[0m in \u001b[0;36mpost\u001b[1;34m(self, url, json, data, **kwargs)\u001b[0m\n\u001b[0;32m    486\u001b[0m \u001b[1;33m\u001b[0m\u001b[0m\n\u001b[0;32m    487\u001b[0m         response = self.request(\"POST\", url, erc, json=json, data=data,\n\u001b[1;32m--> 488\u001b[1;33m                                 **kwargs)\n\u001b[0m\u001b[0;32m    489\u001b[0m         \u001b[1;32mreturn\u001b[0m \u001b[0mextract_and_parse_json\u001b[0m\u001b[1;33m(\u001b[0m\u001b[0mresponse\u001b[0m\u001b[1;33m)\u001b[0m\u001b[1;33m\u001b[0m\u001b[1;33m\u001b[0m\u001b[0m\n\u001b[0;32m    490\u001b[0m \u001b[1;33m\u001b[0m\u001b[0m\n",
      "\u001b[1;32m~\\Anaconda3\\lib\\site-packages\\webexteamssdk\\restsession.py\u001b[0m in \u001b[0;36mrequest\u001b[1;34m(self, method, url, erc, **kwargs)\u001b[0m\n\u001b[0;32m    343\u001b[0m             \u001b[1;32mtry\u001b[0m\u001b[1;33m:\u001b[0m\u001b[1;33m\u001b[0m\u001b[1;33m\u001b[0m\u001b[0m\n\u001b[0;32m    344\u001b[0m                 \u001b[1;31m# Check the response code for error conditions\u001b[0m\u001b[1;33m\u001b[0m\u001b[1;33m\u001b[0m\u001b[1;33m\u001b[0m\u001b[0m\n\u001b[1;32m--> 345\u001b[1;33m                 \u001b[0mcheck_response_code\u001b[0m\u001b[1;33m(\u001b[0m\u001b[0mresponse\u001b[0m\u001b[1;33m,\u001b[0m \u001b[0merc\u001b[0m\u001b[1;33m)\u001b[0m\u001b[1;33m\u001b[0m\u001b[1;33m\u001b[0m\u001b[0m\n\u001b[0m\u001b[0;32m    346\u001b[0m             \u001b[1;32mexcept\u001b[0m \u001b[0mRateLimitError\u001b[0m \u001b[1;32mas\u001b[0m \u001b[0me\u001b[0m\u001b[1;33m:\u001b[0m\u001b[1;33m\u001b[0m\u001b[1;33m\u001b[0m\u001b[0m\n\u001b[0;32m    347\u001b[0m                 \u001b[1;31m# Catch rate-limit errors\u001b[0m\u001b[1;33m\u001b[0m\u001b[1;33m\u001b[0m\u001b[1;33m\u001b[0m\u001b[0m\n",
      "\u001b[1;32m~\\Anaconda3\\lib\\site-packages\\webexteamssdk\\utils.py\u001b[0m in \u001b[0;36mcheck_response_code\u001b[1;34m(response, expected_response_code)\u001b[0m\n\u001b[0;32m    220\u001b[0m         \u001b[1;32mraise\u001b[0m \u001b[0mRateLimitError\u001b[0m\u001b[1;33m(\u001b[0m\u001b[0mresponse\u001b[0m\u001b[1;33m)\u001b[0m\u001b[1;33m\u001b[0m\u001b[1;33m\u001b[0m\u001b[0m\n\u001b[0;32m    221\u001b[0m     \u001b[1;32melse\u001b[0m\u001b[1;33m:\u001b[0m\u001b[1;33m\u001b[0m\u001b[1;33m\u001b[0m\u001b[0m\n\u001b[1;32m--> 222\u001b[1;33m         \u001b[1;32mraise\u001b[0m \u001b[0mApiError\u001b[0m\u001b[1;33m(\u001b[0m\u001b[0mresponse\u001b[0m\u001b[1;33m)\u001b[0m\u001b[1;33m\u001b[0m\u001b[1;33m\u001b[0m\u001b[0m\n\u001b[0m\u001b[0;32m    223\u001b[0m \u001b[1;33m\u001b[0m\u001b[0m\n\u001b[0;32m    224\u001b[0m \u001b[1;33m\u001b[0m\u001b[0m\n",
      "\u001b[1;31mApiError\u001b[0m: [401] Unauthorized - The request requires a valid access token set in the Authorization request header. [Tracking ID: ROUTER_625E5343-743A-01BB-2F18-0AFE5B2D2F18]"
     ]
    }
   ],
   "source": [
    "api.messages.create(room_id, text=\"by to the room!\",\n",
    "                    files=[\"https://www.webex.com/content/dam/wbx/us/images/dg-integ/teams_icon.png\"])"
   ]
  },
  {
   "cell_type": "code",
   "execution_count": null,
   "metadata": {},
   "outputs": [],
   "source": [
    "# Find all rooms that have 'webexteamssdk Demo' in their title\n",
    "all_rooms = api.rooms.list()\n",
    "demo_rooms = [room for room in all_rooms if 'webexteamssdk Demo' in room.title]\n",
    "\n",
    "# Delete all of the demo rooms\n",
    "for room in demo_rooms:\n",
    "    api.rooms.delete(room.id)\n",
    "\n",
    "# Create a new demo room\n",
    "demo_room = api.rooms.create('webexteamssdk Demo')\n",
    "\n",
    "# Add people to the new demo room\n",
    "email_addresses = [\"dhruv6992.khanna@gmail.com]\n",
    "for email in email_addresses:\n",
    "    api.memberships.create(demo_room.id, personEmail=email)\n",
    "\n",
    "# Post a message to the new room, and upload a file\n",
    "api.messages.create(demo_room.id, text=\"Welcome to the room!\",\n",
    "                    files=[\"https://www.webex.com/content/dam/wbx/us/images/dg-integ/teams_icon.png\"])"
   ]
  },
  {
   "cell_type": "code",
   "execution_count": 67,
   "metadata": {},
   "outputs": [],
   "source": [
    "from google.cloud import dialogflow\n",
    "client=dialogflow.SessionsClient()\n",
    "#project_id='test-bot-qfjj'\n",
    "project_id='chatbot-dflow'\n",
    "session_id='abcd'"
   ]
  },
  {
   "cell_type": "code",
   "execution_count": 68,
   "metadata": {},
   "outputs": [],
   "source": [
    "session=client.session_path(project_id,session_id)\n",
    "text_input=dialogflow.TextInput(text='this is via python',language_code='en')\n",
    "query=dialogflow.QueryInput(text=text_input)\n",
    "response=client.detect_intent(request={\"session\":session,\"query_input\":query})"
   ]
  },
  {
   "cell_type": "code",
   "execution_count": 77,
   "metadata": {},
   "outputs": [
    {
     "ename": "SyntaxError",
     "evalue": "invalid syntax (<ipython-input-77-48f7479fc06e>, line 3)",
     "output_type": "error",
     "traceback": [
      "\u001b[1;36m  File \u001b[1;32m\"<ipython-input-77-48f7479fc06e>\"\u001b[1;36m, line \u001b[1;32m3\u001b[0m\n\u001b[1;33m    parameters.\u001b[0m\n\u001b[1;37m               ^\u001b[0m\n\u001b[1;31mSyntaxError\u001b[0m\u001b[1;31m:\u001b[0m invalid syntax\n"
     ]
    }
   ],
   "source": [
    "holder=response.query_result\n",
    "parameters=holder.parameters\n",
    "parameters."
   ]
  },
  {
   "cell_type": "code",
   "execution_count": 78,
   "metadata": {},
   "outputs": [
    {
     "data": {
      "text/plain": [
       "query_text: \"this is via python\"\n",
       "action: \"input.unknown\"\n",
       "parameters {\n",
       "}\n",
       "all_required_params_present: true\n",
       "fulfillment_text: \"Sorry, could you say that again?\"\n",
       "fulfillment_messages {\n",
       "  text {\n",
       "    text: \"Sorry, could you say that again?\"\n",
       "  }\n",
       "}\n",
       "output_contexts {\n",
       "  name: \"projects/chatbot-dflow/agent/sessions/abcd/contexts/__system_counters__\"\n",
       "  lifespan_count: 1\n",
       "  parameters {\n",
       "    fields {\n",
       "      key: \"no-input\"\n",
       "      value {\n",
       "        number_value: 0.0\n",
       "      }\n",
       "    }\n",
       "    fields {\n",
       "      key: \"no-match\"\n",
       "      value {\n",
       "        number_value: 1.0\n",
       "      }\n",
       "    }\n",
       "  }\n",
       "}\n",
       "intent {\n",
       "  name: \"projects/chatbot-dflow/agent/intents/46cd69cc-782e-4f74-a78c-53058cd3322d\"\n",
       "  display_name: \"Default Fallback Intent\"\n",
       "  is_fallback: true\n",
       "}\n",
       "intent_detection_confidence: 1.0\n",
       "language_code: \"en\""
      ]
     },
     "execution_count": 78,
     "metadata": {},
     "output_type": "execute_result"
    }
   ],
   "source": [
    "response.query_result"
   ]
  },
  {
   "cell_type": "code",
   "execution_count": 82,
   "metadata": {},
   "outputs": [
    {
     "data": {
      "text/plain": [
       "'Sorry, could you say that again?'"
      ]
     },
     "execution_count": 82,
     "metadata": {},
     "output_type": "execute_result"
    }
   ],
   "source": [
    "response.query_result.fulfillment_text"
   ]
  },
  {
   "cell_type": "code",
   "execution_count": 34,
   "metadata": {},
   "outputs": [
    {
     "data": {
      "text/plain": [
       "text {\n",
       "  text: \"this is via python\"\n",
       "  language_code: \"en\"\n",
       "}"
      ]
     },
     "execution_count": 34,
     "metadata": {},
     "output_type": "execute_result"
    }
   ],
   "source": [
    "query=dialogflow.QueryInput(text=text_input)\n",
    "query"
   ]
  },
  {
   "cell_type": "code",
   "execution_count": 8,
   "metadata": {},
   "outputs": [
    {
     "ename": "AttributeError",
     "evalue": "'str' object has no attribute 'detect_intent'",
     "output_type": "error",
     "traceback": [
      "\u001b[1;31m---------------------------------------------------------------------------\u001b[0m",
      "\u001b[1;31mAttributeError\u001b[0m                            Traceback (most recent call last)",
      "\u001b[1;32m<ipython-input-8-b61d4519017a>\u001b[0m in \u001b[0;36m<module>\u001b[1;34m\u001b[0m\n\u001b[1;32m----> 1\u001b[1;33m \u001b[0mresponse\u001b[0m\u001b[1;33m=\u001b[0m\u001b[0msession\u001b[0m\u001b[1;33m.\u001b[0m\u001b[0mdetect_intent\u001b[0m\u001b[1;33m(\u001b[0m\u001b[0mrequest\u001b[0m\u001b[1;33m=\u001b[0m\u001b[1;33m{\u001b[0m\u001b[1;34m\"session\"\u001b[0m\u001b[1;33m:\u001b[0m\u001b[0msession\u001b[0m\u001b[1;33m,\u001b[0m\u001b[1;34m\"query_input\"\u001b[0m\u001b[1;33m:\u001b[0m\u001b[0mquery\u001b[0m\u001b[1;33m}\u001b[0m\u001b[1;33m)\u001b[0m\u001b[1;33m\u001b[0m\u001b[1;33m\u001b[0m\u001b[0m\n\u001b[0m",
      "\u001b[1;31mAttributeError\u001b[0m: 'str' object has no attribute 'detect_intent'"
     ]
    }
   ],
   "source": [
    "response=session.detect_intent(request={\"session\":session,\"query_input\":query})"
   ]
  },
  {
   "cell_type": "code",
   "execution_count": 15,
   "metadata": {},
   "outputs": [
    {
     "name": "stdout",
     "output_type": "stream",
     "text": [
      "<Response [200]>\n",
      "{'id': 'Y2lzY29zcGFyazovL3VybjpURUFNOnVzLXdlc3QtMl9yL01FU1NBR0UvNWZmMjUyNTAtYmZhOC0xMWVjLWE1NWYtNzExNjQ5MmE0NTlh', 'roomId': 'Y2lzY29zcGFyazovL3VybjpURUFNOnVzLXdlc3QtMl9yL1JPT00vODNhYzQ5ZTAtYmIxMC0xMWVjLTljMWQtNzUzMDI1MjAyMDg1', 'roomType': 'direct', 'text': 'This is from python:::: request post>', 'personId': 'Y2lzY29zcGFyazovL3VzL1BFT1BMRS81YzY4ZjVkNS0yMGRmLTQ3YmYtYjdjOS05YzczOGZhN2M0ZWE', 'personEmail': 'dflow@webex.bot', 'created': '2022-04-19T06:17:22.677Z'}\n",
      "New message created, with ID: Y2lzY29zcGFyazovL3VybjpURUFNOnVzLXdlc3QtMl9yL01FU1NBR0UvNWZmMjUyNTAtYmZhOC0xMWVjLWE1NWYtNzExNjQ5MmE0NTlh\n",
      "This is from python:::: request post>\n"
     ]
    }
   ],
   "source": [
    "import requests\n",
    "\n",
    "URL = 'https://api.ciscospark.com/v1/messages'\n",
    "ACCESS_TOKEN=\"YzFlNThjMGEtMmQ3NC00OTllLTlmNjMtZmYwNDZmNTBhMzJlZjk0NGUxYTItYmVm_P0A1_b6609cee-56d7-44a5-9f67-2e1759d7cfaf\"\n",
    "#ROOM_ID = '<room_id>'\n",
    "MESSAGE_TEXT = 'This is from python:::: request post>'\n",
    "room_id=\"Y2lzY29zcGFyazovL3VybjpURUFNOnVzLXdlc3QtMl9yL1JPT00vODNhYzQ5ZTAtYmIxMC0xMWVjLTljMWQtNzUzMDI1MjAyMDg1\"\n",
    "\n",
    "headers = {'Authorization': 'Bearer ' + ACCESS_TOKEN,\n",
    "           'Content-type': 'application/json;charset=utf-8'}\n",
    "post_data = {'roomId': room_id,\n",
    "             'text': MESSAGE_TEXT}\n",
    "response = requests.post(URL, json=post_data, headers=headers)\n",
    "print(response)\n",
    "print(response.json())\n",
    "if response.status_code == 200:\n",
    "    # Great your message was posted!\n",
    "    message_id = response.json().get('id','00000')\n",
    "    message_text = response.json().get('text','00000')\n",
    "    print(\"New message created, with ID:\", message_id)\n",
    "    print(message_text)\n",
    "else:\n",
    "    # Oops something went wrong...  Better do something about it.\n",
    "    print(response.status_code, response.text)"
   ]
  },
  {
   "cell_type": "code",
   "execution_count": 28,
   "metadata": {},
   "outputs": [
    {
     "name": "stdout",
     "output_type": "stream",
     "text": [
      "<Response [400]>\n",
      "{'message': 'Provide only one destination in the personId and personEmail fields', 'errors': [{'description': 'Provide only one destination in the personId and personEmail fields'}], 'trackingId': 'ROUTER_625E6174-EC52-01BB-5F44-0AFE3BAB5F44'}\n",
      "400 {\"message\":\"Provide only one destination in the personId and personEmail fields\",\"errors\":[{\"description\":\"Provide only one destination in the personId and personEmail fields\"}],\"trackingId\":\"ROUTER_625E6174-EC52-01BB-5F44-0AFE3BAB5F44\"}\n"
     ]
    }
   ],
   "source": [
    "import requests\n",
    "\n",
    "URL = 'https://webexapis.com/v1/messages/direct'\n",
    "#URL='https://webexapis.com/v1/messages/Y2lzY29zcGFyazovL3VybjpURUFNOnVzLXdlc3QtMl9yL1JPT00vODNhYzQ5ZTAtYmIxMC0xMWVjLTljMWQtNzUzMDI1MjAyMDg1'\n",
    "#ACCESS_TOKEN = 'NGQwNDE2ODUtZDMzOS00YzExLWIwY2EtYTRkNjdiM2M3ZmJlNWVjNTcwMGItMzg4_P0A1_b6609cee-56d7-44a5-9f67-2e1759d7cfaf'\n",
    "#ROOM_ID = '<room_id>'\n",
    "ACCESS_TOKEN=\"YzFlNThjMGEtMmQ3NC00OTllLTlmNjMtZmYwNDZmNTBhMzJlZjk0NGUxYTItYmVm_P0A1_b6609cee-56d7-44a5-9f67-2e1759d7cfaf\"\n",
    "MESSAGE_TEXT = 'This is from python:::: request post>'\n",
    "room_id=\"Y2lzY29zcGFyazovL3VybjpURUFNOnVzLXdlc3QtMl9yL1JPT00vODNhYzQ5ZTAtYmIxMC0xMWVjLTljMWQtNzUzMDI1MjAyMDg1\"\n",
    "\n",
    "#headers = {'Authorization': 'Bearer ' + 'ZWY0OTcwMTctMTkzYy00YzM1LThiZTctMGI1YjJlZTBkMjdjMmFjN2U2NTAtZDc2_P0A1_b6609cee-56d7-44a5-9f67-2e1759d7cfaf',\n",
    "#           'Content-type': 'application/json;charset=utf-8'}\n",
    "\n",
    "headers = {'Authorization': 'Bearer ' + 'MDZlNGI1NjMtYmUyOC00MDg1LWFiYTMtY2MyMzkyZjc0N2JhN2YxZDk5NWMtZmUy_P0A1_b6609cee-56d7-44a5-9f67-2e1759d7cfaf',\n",
    "           'Content-type': 'application/json;charset=utf-8'}\n",
    "\n",
    "post_data = {'roomId': room_id,\n",
    "             'text': MESSAGE_TEXT}\n",
    "#params={'email':'dhruv6992.khanna@gmail.com','roomId':room_id}\n",
    "params={'roomId':room_id}\n",
    "\n",
    "#URL='https://webexapis.com/v1/messages?roomId=Y2lzY29zcGFyazovL3VybjpURUFNOnVzLXdlc3QtMl9yL1JPT00vODNhYzQ5ZTAtYmIxMC0xMWVjLTljMWQtNzUzMDI1MjAyMDg1&max=1'\n",
    "response = requests.get(URL,headers=headers,params=params)\n",
    "print(response)\n",
    "print(response.json())\n",
    "if response.status_code == 200:\n",
    "    # Great your message was posted!\n",
    "    message_id = response.json().get('id','00000')\n",
    "    message_text = response.json().get('text','00000')\n",
    "    print(\"New message created, with ID:\", message_id)\n",
    "    print(message_text)\n",
    "else:\n",
    "    # Oops something went wrong...  Better do something about it.\n",
    "    print(response.status_code, response.text)"
   ]
  },
  {
   "cell_type": "code",
   "execution_count": 16,
   "metadata": {},
   "outputs": [],
   "source": [
    "import webbrowser"
   ]
  },
  {
   "cell_type": "code",
   "execution_count": 17,
   "metadata": {},
   "outputs": [
    {
     "data": {
      "text/plain": [
       "True"
      ]
     },
     "execution_count": 17,
     "metadata": {},
     "output_type": "execute_result"
    }
   ],
   "source": [
    "webbrowser.open_new('http://127.0.0.1:5000/webhook2')"
   ]
  },
  {
   "cell_type": "code",
   "execution_count": null,
   "metadata": {},
   "outputs": [],
   "source": []
  }
 ],
 "metadata": {
  "kernelspec": {
   "display_name": "Python 3",
   "language": "python",
   "name": "python3"
  },
  "language_info": {
   "codemirror_mode": {
    "name": "ipython",
    "version": 3
   },
   "file_extension": ".py",
   "mimetype": "text/x-python",
   "name": "python",
   "nbconvert_exporter": "python",
   "pygments_lexer": "ipython3",
   "version": "3.7.4"
  }
 },
 "nbformat": 4,
 "nbformat_minor": 2
}
